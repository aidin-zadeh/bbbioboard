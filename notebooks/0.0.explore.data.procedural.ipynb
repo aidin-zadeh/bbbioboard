{
 "cells": [
  {
   "cell_type": "code",
   "execution_count": 1,
   "metadata": {},
   "outputs": [],
   "source": [
    "# import dependencies\n",
    "import os, inspect\n",
    "import sqlalchemy as sqlalc\n",
    "from sqlalchemy.ext.declarative import declarative_base\n",
    "from sqlalchemy.ext.automap import automap_base"
   ]
  },
  {
   "cell_type": "code",
   "execution_count": 2,
   "metadata": {},
   "outputs": [],
   "source": [
    "# get path to current and root directories\n",
    "CURR_DIR = os.path.dirname(inspect.getabsfile(inspect.currentframe()))\n",
    "ROOT_DIR = os.path.dirname(CURR_DIR)\\"
   ]
  },
  {
   "cell_type": "markdown",
   "metadata": {},
   "source": [
    "We start off by creating a SQLAlchemy engine that allows us to connect and interface with sql database."
   ]
  },
  {
   "cell_type": "code",
   "execution_count": 3,
   "metadata": {},
   "outputs": [],
   "source": [
    "# create sqlite engine and connect to data base\n",
    "fname = os.path.join(ROOT_DIR, \"bbbioboard\", \"data\", \"ext\", \"bellybutton.sqlite\")\n",
    "engine = sqlalc.create_engine(f\"sqlite:///{fname}\")"
   ]
  },
  {
   "cell_type": "markdown",
   "metadata": {},
   "source": [
    "Having the database connected to the engine, now we will list up the available tables:"
   ]
  },
  {
   "cell_type": "code",
   "execution_count": 4,
   "metadata": {},
   "outputs": [
    {
     "data": {
      "text/plain": [
       "['sample_metadata', 'samples']"
      ]
     },
     "execution_count": 4,
     "metadata": {},
     "output_type": "execute_result"
    }
   ],
   "source": [
    "# explore table names\n",
    "engine.table_names()"
   ]
  },
  {
   "cell_type": "markdown",
   "metadata": {},
   "source": [
    "This show that the current database has two tables with names of 'sample_metadata' and 'samples. With table names collected, now we can dig into the tables data and explore the table columns. We implement this by reflecting the database to an instance of automap_base():"
   ]
  },
  {
   "cell_type": "code",
   "execution_count": 5,
   "metadata": {},
   "outputs": [],
   "source": [
    "Base = automap_base()\n",
    "Base.prepare(engine, reflect=True)"
   ]
  },
  {
   "cell_type": "markdown",
   "metadata": {},
   "source": [
    "This will create the mapped classes with the default table names that can be access as follows:"
   ]
  },
  {
   "cell_type": "code",
   "execution_count": 6,
   "metadata": {},
   "outputs": [],
   "source": [
    "# reflect the database\n",
    "samplesTable = Base.classes.samples\n",
    "metadataTtable = Base.classes.sample_metadata"
   ]
  },
  {
   "cell_type": "markdown",
   "metadata": {},
   "source": [
    "Finally, we need to create a session and bind to the database. This will allows us to query the database:"
   ]
  },
  {
   "cell_type": "code",
   "execution_count": 14,
   "metadata": {},
   "outputs": [],
   "source": [
    "# create session\n",
    "Session = sqlalc.orm.sessionmaker(bind=engine)\n",
    "session = Session()"
   ]
  },
  {
   "cell_type": "markdown",
   "metadata": {},
   "source": [
    "I have got the tables set up and reflected. Let's explore the tables, looking at column names and data types etc:"
   ]
  },
  {
   "cell_type": "code",
   "execution_count": 15,
   "metadata": {},
   "outputs": [
    {
     "data": {
      "text/plain": [
       "\"Table('samples', MetaData(bind=None), Column('otu_id', INTEGER(), table=<samples>, primary_key=True, nullable=False), Column('otu_label', TEXT(), table=<samples>), Column('940', INTEGER(), table=<samples>), Column('941', INTEGER(), table=<samples>), Column('943', INTEGER(), table=<samples>), Column('944', INTEGER(), table=<samples>), Column('945', INTEGER(), table=<samples>), Column('946', INTEGER(), table=<samples>), Column('947', INTEGER(), table=<samples>), Column('948', INTEGER(), table=<samples>), Column('949', INTEGER(), table=<samples>), Column('950', INTEGER(), table=<samples>), Column('952', INTEGER(), table=<samples>), Column('953', INTEGER(), table=<samples>), Column('954', INTEGER(), table=<samples>), Column('955', INTEGER(), table=<samples>), Column('956', INTEGER(), table=<samples>), Column('958', INTEGER(), table=<samples>), Column('959', INTEGER(), table=<samples>), Column('960', INTEGER(), table=<samples>), Column('961', INTEGER(), table=<samples>), Column('962', INTEGER(), table=<samples>), Column('963', INTEGER(), table=<samples>), Column('964', INTEGER(), table=<samples>), Column('966', INTEGER(), table=<samples>), Column('967', INTEGER(), table=<samples>), Column('968', INTEGER(), table=<samples>), Column('969', INTEGER(), table=<samples>), Column('970', INTEGER(), table=<samples>), Column('971', INTEGER(), table=<samples>), Column('972', INTEGER(), table=<samples>), Column('973', INTEGER(), table=<samples>), Column('974', INTEGER(), table=<samples>), Column('975', INTEGER(), table=<samples>), Column('978', INTEGER(), table=<samples>), Column('1233', INTEGER(), table=<samples>), Column('1234', INTEGER(), table=<samples>), Column('1235', INTEGER(), table=<samples>), Column('1236', INTEGER(), table=<samples>), Column('1237', INTEGER(), table=<samples>), Column('1238', INTEGER(), table=<samples>), Column('1242', INTEGER(), table=<samples>), Column('1243', INTEGER(), table=<samples>), Column('1246', INTEGER(), table=<samples>), Column('1253', INTEGER(), table=<samples>), Column('1254', INTEGER(), table=<samples>), Column('1258', INTEGER(), table=<samples>), Column('1259', INTEGER(), table=<samples>), Column('1260', INTEGER(), table=<samples>), Column('1264', INTEGER(), table=<samples>), Column('1265', INTEGER(), table=<samples>), Column('1273', INTEGER(), table=<samples>), Column('1275', INTEGER(), table=<samples>), Column('1276', INTEGER(), table=<samples>), Column('1277', INTEGER(), table=<samples>), Column('1278', INTEGER(), table=<samples>), Column('1279', INTEGER(), table=<samples>), Column('1280', INTEGER(), table=<samples>), Column('1281', INTEGER(), table=<samples>), Column('1282', INTEGER(), table=<samples>), Column('1283', INTEGER(), table=<samples>), Column('1284', INTEGER(), table=<samples>), Column('1285', INTEGER(), table=<samples>), Column('1286', INTEGER(), table=<samples>), Column('1287', INTEGER(), table=<samples>), Column('1288', INTEGER(), table=<samples>), Column('1289', INTEGER(), table=<samples>), Column('1290', INTEGER(), table=<samples>), Column('1291', INTEGER(), table=<samples>), Column('1292', INTEGER(), table=<samples>), Column('1293', INTEGER(), table=<samples>), Column('1294', INTEGER(), table=<samples>), Column('1295', INTEGER(), table=<samples>), Column('1296', INTEGER(), table=<samples>), Column('1297', INTEGER(), table=<samples>), Column('1298', INTEGER(), table=<samples>), Column('1308', INTEGER(), table=<samples>), Column('1309', INTEGER(), table=<samples>), Column('1310', INTEGER(), table=<samples>), Column('1374', INTEGER(), table=<samples>), Column('1415', INTEGER(), table=<samples>), Column('1439', INTEGER(), table=<samples>), Column('1441', INTEGER(), table=<samples>), Column('1443', INTEGER(), table=<samples>), Column('1486', INTEGER(), table=<samples>), Column('1487', INTEGER(), table=<samples>), Column('1489', INTEGER(), table=<samples>), Column('1490', INTEGER(), table=<samples>), Column('1491', INTEGER(), table=<samples>), Column('1494', INTEGER(), table=<samples>), Column('1495', INTEGER(), table=<samples>), Column('1497', INTEGER(), table=<samples>), Column('1499', INTEGER(), table=<samples>), Column('1500', INTEGER(), table=<samples>), Column('1501', INTEGER(), table=<samples>), Column('1502', INTEGER(), table=<samples>), Column('1503', INTEGER(), table=<samples>), Column('1504', INTEGER(), table=<samples>), Column('1505', INTEGER(), table=<samples>), Column('1506', INTEGER(), table=<samples>), Column('1507', INTEGER(), table=<samples>), Column('1508', INTEGER(), table=<samples>), Column('1510', INTEGER(), table=<samples>), Column('1511', INTEGER(), table=<samples>), Column('1512', INTEGER(), table=<samples>), Column('1513', INTEGER(), table=<samples>), Column('1514', INTEGER(), table=<samples>), Column('1515', INTEGER(), table=<samples>), Column('1516', INTEGER(), table=<samples>), Column('1517', INTEGER(), table=<samples>), Column('1518', INTEGER(), table=<samples>), Column('1519', INTEGER(), table=<samples>), Column('1521', INTEGER(), table=<samples>), Column('1524', INTEGER(), table=<samples>), Column('1526', INTEGER(), table=<samples>), Column('1527', INTEGER(), table=<samples>), Column('1530', INTEGER(), table=<samples>), Column('1531', INTEGER(), table=<samples>), Column('1532', INTEGER(), table=<samples>), Column('1533', INTEGER(), table=<samples>), Column('1534', INTEGER(), table=<samples>), Column('1535', INTEGER(), table=<samples>), Column('1536', INTEGER(), table=<samples>), Column('1537', INTEGER(), table=<samples>), Column('1539', INTEGER(), table=<samples>), Column('1540', INTEGER(), table=<samples>), Column('1541', INTEGER(), table=<samples>), Column('1542', INTEGER(), table=<samples>), Column('1543', INTEGER(), table=<samples>), Column('1544', INTEGER(), table=<samples>), Column('1545', INTEGER(), table=<samples>), Column('1546', INTEGER(), table=<samples>), Column('1547', INTEGER(), table=<samples>), Column('1548', INTEGER(), table=<samples>), Column('1549', INTEGER(), table=<samples>), Column('1550', INTEGER(), table=<samples>), Column('1551', INTEGER(), table=<samples>), Column('1552', INTEGER(), table=<samples>), Column('1553', INTEGER(), table=<samples>), Column('1554', INTEGER(), table=<samples>), Column('1555', INTEGER(), table=<samples>), Column('1556', INTEGER(), table=<samples>), Column('1557', INTEGER(), table=<samples>), Column('1558', INTEGER(), table=<samples>), Column('1561', INTEGER(), table=<samples>), Column('1562', INTEGER(), table=<samples>), Column('1563', INTEGER(), table=<samples>), Column('1564', INTEGER(), table=<samples>), Column('1572', INTEGER(), table=<samples>), Column('1573', INTEGER(), table=<samples>), Column('1574', INTEGER(), table=<samples>), Column('1576', INTEGER(), table=<samples>), Column('1577', INTEGER(), table=<samples>), Column('1581', INTEGER(), table=<samples>), Column('1601', INTEGER(), table=<samples>), schema=None)\""
      ]
     },
     "execution_count": 15,
     "metadata": {},
     "output_type": "execute_result"
    }
   ],
   "source": [
    "repr(samplesTable.metadata.tables[\"samples\"])"
   ]
  },
  {
   "cell_type": "markdown",
   "metadata": {},
   "source": [
    "It seems that there is something wrong with column names of samples table. Column names consist of only digit that would not work with  directly querying at Python. Lets take a look specifically on column names:"
   ]
  },
  {
   "cell_type": "code",
   "execution_count": 9,
   "metadata": {},
   "outputs": [
    {
     "data": {
      "text/plain": [
       "\"['otu_id', 'otu_label', '940', '941', '943', '944', '945', '946', '947', '948', '949', '950', '952', '953', '954', '955', '956', '958', '959', '960', '961', '962', '963', '964', '966', '967', '968', '969', '970', '971', '972', '973', '974', '975', '978', '1233', '1234', '1235', '1236', '1237', '1238', '1242', '1243', '1246', '1253', '1254', '1258', '1259', '1260', '1264', '1265', '1273', '1275', '1276', '1277', '1278', '1279', '1280', '1281', '1282', '1283', '1284', '1285', '1286', '1287', '1288', '1289', '1290', '1291', '1292', '1293', '1294', '1295', '1296', '1297', '1298', '1308', '1309', '1310', '1374', '1415', '1439', '1441', '1443', '1486', '1487', '1489', '1490', '1491', '1494', '1495', '1497', '1499', '1500', '1501', '1502', '1503', '1504', '1505', '1506', '1507', '1508', '1510', '1511', '1512', '1513', '1514', '1515', '1516', '1517', '1518', '1519', '1521', '1524', '1526', '1527', '1530', '1531', '1532', '1533', '1534', '1535', '1536', '1537', '1539', '1540', '1541', '1542', '1543', '1544', '1545', '1546', '1547', '1548', '1549', '1550', '1551', '1552', '1553', '1554', '1555', '1556', '1557', '1558', '1561', '1562', '1563', '1564', '1572', '1573', '1574', '1576', '1577', '1581', '1601']\""
      ]
     },
     "execution_count": 9,
     "metadata": {},
     "output_type": "execute_result"
    }
   ],
   "source": [
    "repr(samplesTable.__table__.columns.keys())"
   ]
  },
  {
   "cell_type": "markdown",
   "metadata": {},
   "source": [
    "It seems that there is something wrong with column names of samples table. Column names consist of only digit that would not work with  directly querying at Python. Lets take a look specifically on column names:"
   ]
  },
  {
   "cell_type": "code",
   "execution_count": 10,
   "metadata": {},
   "outputs": [],
   "source": [
    "# def func(x):\n",
    "#     x.name = \"bb_{}\".format(x.name)\n",
    "#     x.key = \"bb_{}\".format(x.key)\n",
    "    \n",
    "# list(map(func, samplesTable.__table__.columns.values()[2:]))\n",
    "# repr(samplesTable.__table__.columns.values())"
   ]
  },
  {
   "cell_type": "code",
   "execution_count": 11,
   "metadata": {},
   "outputs": [],
   "source": [
    "inspector = sqlalc.inspect(engine)\n",
    "@sqlalc.event.listens_for(sqlalc.Table, \"column_reflect\")\n",
    "def reflect_col(inspector, table, column_info):\n",
    "    column_info['key'] = \"bb_{}\".format(column_info['name'])"
   ]
  },
  {
   "cell_type": "code",
   "execution_count": 12,
   "metadata": {},
   "outputs": [],
   "source": [
    "Base = automap_base()\n",
    "Base.prepare(engine, reflect=True)"
   ]
  },
  {
   "cell_type": "code",
   "execution_count": 13,
   "metadata": {},
   "outputs": [
    {
     "ename": "SyntaxError",
     "evalue": "invalid syntax (<ipython-input-13-777982a912f9>, line 1)",
     "output_type": "error",
     "traceback": [
      "\u001b[0;36m  File \u001b[0;32m\"<ipython-input-13-777982a912f9>\"\u001b[0;36m, line \u001b[0;32m1\u001b[0m\n\u001b[0;31m    samplesTable.1280\u001b[0m\n\u001b[0m                    ^\u001b[0m\n\u001b[0;31mSyntaxError\u001b[0m\u001b[0;31m:\u001b[0m invalid syntax\n"
     ]
    }
   ],
   "source": []
  }
 ],
 "metadata": {
  "kernelspec": {
   "display_name": "Python 3",
   "language": "python",
   "name": "python3"
  },
  "language_info": {
   "codemirror_mode": {
    "name": "ipython",
    "version": 3
   },
   "file_extension": ".py",
   "mimetype": "text/x-python",
   "name": "python",
   "nbconvert_exporter": "python",
   "pygments_lexer": "ipython3",
   "version": "3.6.6"
  }
 },
 "nbformat": 4,
 "nbformat_minor": 1
}
